{
  "nbformat": 4,
  "nbformat_minor": 0,
  "metadata": {
    "colab": {
      "provenance": [],
      "authorship_tag": "ABX9TyMxl23ZsutKCaBjrVv7Jcai",
      "include_colab_link": true
    },
    "kernelspec": {
      "name": "python3",
      "display_name": "Python 3"
    },
    "language_info": {
      "name": "python"
    }
  },
  "cells": [
    {
      "cell_type": "markdown",
      "metadata": {
        "id": "view-in-github",
        "colab_type": "text"
      },
      "source": [
        "<a href=\"https://colab.research.google.com/github/arindamkr/YBI_Internship/blob/main/Food_Meal_Order.ipynb\" target=\"_parent\"><img src=\"https://colab.research.google.com/assets/colab-badge.svg\" alt=\"Open In Colab\"/></a>"
      ]
    },
    {
      "cell_type": "code",
      "execution_count": 7,
      "metadata": {
        "colab": {
          "base_uri": "https://localhost:8080/",
          "height": 668
        },
        "id": "ml-vy8-4fw1R",
        "outputId": "39babc2a-3f46-4075-a2df-91b88dfcae2e"
      },
      "outputs": [
        {
          "output_type": "stream",
          "name": "stdout",
          "text": [
            "🥗 HealthyBites Weekly Meal Scheduler\n",
            "\n",
            "Choose an action [add/view/export/quit]: add\n",
            "  Meal name: Lunch\n",
            "  Date (YYYY-MM-DD): 2025-07-31\n",
            "  Ingredients (comma-separated): Rice,roti,daal,sabzi\n",
            "✅ Added meal #1: \"Lunch\" on 2025-07-31 with 4 ingredient(s).\n",
            "Choose an action [add/view/export/quit]: view\n",
            "\n",
            "📅 Scheduled Meals:\n",
            "  1: Lunch — 2025-07-31 — Ingredients: Rice, roti, daal, sabzi\n",
            "\n",
            "Choose an action [add/view/export/quit]: export\n",
            "✅ Exported 4 ingredients to ingredients.csv\n",
            "Choose an action [add/view/export/quit]: view\n",
            "\n",
            "📅 Scheduled Meals:\n",
            "  1: Lunch — 2025-07-31 — Ingredients: Rice, roti, daal, sabzi\n",
            "\n"
          ]
        },
        {
          "output_type": "error",
          "ename": "KeyboardInterrupt",
          "evalue": "Interrupted by user",
          "traceback": [
            "\u001b[0;31m---------------------------------------------------------------------------\u001b[0m",
            "\u001b[0;31mKeyboardInterrupt\u001b[0m                         Traceback (most recent call last)",
            "\u001b[0;32m/tmp/ipython-input-7-1209210711.py\u001b[0m in \u001b[0;36m<cell line: 0>\u001b[0;34m()\u001b[0m\n\u001b[1;32m     86\u001b[0m \u001b[0;34m\u001b[0m\u001b[0m\n\u001b[1;32m     87\u001b[0m \u001b[0;32mif\u001b[0m \u001b[0m__name__\u001b[0m \u001b[0;34m==\u001b[0m \u001b[0;34m\"__main__\"\u001b[0m\u001b[0;34m:\u001b[0m\u001b[0;34m\u001b[0m\u001b[0;34m\u001b[0m\u001b[0m\n\u001b[0;32m---> 88\u001b[0;31m     \u001b[0mmain\u001b[0m\u001b[0;34m(\u001b[0m\u001b[0;34m)\u001b[0m\u001b[0;34m\u001b[0m\u001b[0;34m\u001b[0m\u001b[0m\n\u001b[0m",
            "\u001b[0;32m/tmp/ipython-input-7-1209210711.py\u001b[0m in \u001b[0;36mmain\u001b[0;34m()\u001b[0m\n\u001b[1;32m     66\u001b[0m     \u001b[0mprint\u001b[0m\u001b[0;34m(\u001b[0m\u001b[0;34m\"🥗 HealthyBites Weekly Meal Scheduler\\n\"\u001b[0m\u001b[0;34m)\u001b[0m\u001b[0;34m\u001b[0m\u001b[0;34m\u001b[0m\u001b[0m\n\u001b[1;32m     67\u001b[0m     \u001b[0;32mwhile\u001b[0m \u001b[0;32mTrue\u001b[0m\u001b[0;34m:\u001b[0m\u001b[0;34m\u001b[0m\u001b[0;34m\u001b[0m\u001b[0m\n\u001b[0;32m---> 68\u001b[0;31m         \u001b[0mcmd\u001b[0m \u001b[0;34m=\u001b[0m \u001b[0minput\u001b[0m\u001b[0;34m(\u001b[0m\u001b[0;34m\"Choose an action [add/view/export/quit]: \"\u001b[0m\u001b[0;34m)\u001b[0m\u001b[0;34m.\u001b[0m\u001b[0mstrip\u001b[0m\u001b[0;34m(\u001b[0m\u001b[0;34m)\u001b[0m\u001b[0;34m.\u001b[0m\u001b[0mlower\u001b[0m\u001b[0;34m(\u001b[0m\u001b[0;34m)\u001b[0m\u001b[0;34m\u001b[0m\u001b[0;34m\u001b[0m\u001b[0m\n\u001b[0m\u001b[1;32m     69\u001b[0m         \u001b[0;32mtry\u001b[0m\u001b[0;34m:\u001b[0m\u001b[0;34m\u001b[0m\u001b[0;34m\u001b[0m\u001b[0m\n\u001b[1;32m     70\u001b[0m             \u001b[0;32mif\u001b[0m \u001b[0mcmd\u001b[0m \u001b[0;34m==\u001b[0m \u001b[0;34m\"add\"\u001b[0m\u001b[0;34m:\u001b[0m\u001b[0;34m\u001b[0m\u001b[0;34m\u001b[0m\u001b[0m\n",
            "\u001b[0;32m/usr/local/lib/python3.11/dist-packages/ipykernel/kernelbase.py\u001b[0m in \u001b[0;36mraw_input\u001b[0;34m(self, prompt)\u001b[0m\n\u001b[1;32m   1175\u001b[0m                 \u001b[0;34m\"raw_input was called, but this frontend does not support input requests.\"\u001b[0m\u001b[0;34m\u001b[0m\u001b[0;34m\u001b[0m\u001b[0m\n\u001b[1;32m   1176\u001b[0m             )\n\u001b[0;32m-> 1177\u001b[0;31m         return self._input_request(\n\u001b[0m\u001b[1;32m   1178\u001b[0m             \u001b[0mstr\u001b[0m\u001b[0;34m(\u001b[0m\u001b[0mprompt\u001b[0m\u001b[0;34m)\u001b[0m\u001b[0;34m,\u001b[0m\u001b[0;34m\u001b[0m\u001b[0;34m\u001b[0m\u001b[0m\n\u001b[1;32m   1179\u001b[0m             \u001b[0mself\u001b[0m\u001b[0;34m.\u001b[0m\u001b[0m_parent_ident\u001b[0m\u001b[0;34m[\u001b[0m\u001b[0;34m\"shell\"\u001b[0m\u001b[0;34m]\u001b[0m\u001b[0;34m,\u001b[0m\u001b[0;34m\u001b[0m\u001b[0;34m\u001b[0m\u001b[0m\n",
            "\u001b[0;32m/usr/local/lib/python3.11/dist-packages/ipykernel/kernelbase.py\u001b[0m in \u001b[0;36m_input_request\u001b[0;34m(self, prompt, ident, parent, password)\u001b[0m\n\u001b[1;32m   1217\u001b[0m             \u001b[0;32mexcept\u001b[0m \u001b[0mKeyboardInterrupt\u001b[0m\u001b[0;34m:\u001b[0m\u001b[0;34m\u001b[0m\u001b[0;34m\u001b[0m\u001b[0m\n\u001b[1;32m   1218\u001b[0m                 \u001b[0;31m# re-raise KeyboardInterrupt, to truncate traceback\u001b[0m\u001b[0;34m\u001b[0m\u001b[0;34m\u001b[0m\u001b[0m\n\u001b[0;32m-> 1219\u001b[0;31m                 \u001b[0;32mraise\u001b[0m \u001b[0mKeyboardInterrupt\u001b[0m\u001b[0;34m(\u001b[0m\u001b[0;34m\"Interrupted by user\"\u001b[0m\u001b[0;34m)\u001b[0m \u001b[0;32mfrom\u001b[0m \u001b[0;32mNone\u001b[0m\u001b[0;34m\u001b[0m\u001b[0;34m\u001b[0m\u001b[0m\n\u001b[0m\u001b[1;32m   1220\u001b[0m             \u001b[0;32mexcept\u001b[0m \u001b[0mException\u001b[0m\u001b[0;34m:\u001b[0m\u001b[0;34m\u001b[0m\u001b[0;34m\u001b[0m\u001b[0m\n\u001b[1;32m   1221\u001b[0m                 \u001b[0mself\u001b[0m\u001b[0;34m.\u001b[0m\u001b[0mlog\u001b[0m\u001b[0;34m.\u001b[0m\u001b[0mwarning\u001b[0m\u001b[0;34m(\u001b[0m\u001b[0;34m\"Invalid Message:\"\u001b[0m\u001b[0;34m,\u001b[0m \u001b[0mexc_info\u001b[0m\u001b[0;34m=\u001b[0m\u001b[0;32mTrue\u001b[0m\u001b[0;34m)\u001b[0m\u001b[0;34m\u001b[0m\u001b[0;34m\u001b[0m\u001b[0m\n",
            "\u001b[0;31mKeyboardInterrupt\u001b[0m: Interrupted by user"
          ]
        }
      ],
      "source": [
        "import pandas as pd\n",
        "from datetime import datetime, date\n",
        "\n",
        "meals = []\n",
        "meal_ids = set()\n",
        "next_id = 1\n",
        "\n",
        "def validate_date(date_str: str) -> date:\n",
        "    \"\"\"Validate future or today's date in YYYY-MM-DD format.\"\"\"\n",
        "    d = datetime.strptime(date_str, \"%Y-%m-%d\").date()\n",
        "    if d < date.today():\n",
        "        raise ValueError(\"Date cannot be in the past.\")\n",
        "    return d\n",
        "\n",
        "def add_meal(name: str, date_str: str, ingredients_str: str) -> int:\n",
        "    \"\"\"Add a meal with validated date and list of ingredients.\"\"\"\n",
        "    global next_id\n",
        "    d = validate_date(date_str)\n",
        "    ingredients = [i.strip() for i in ingredients_str.split(\",\") if i.strip()]\n",
        "    if not ingredients:\n",
        "        raise ValueError(\"No ingredients provided.\")\n",
        "    mid = next_id\n",
        "    next_id += 1\n",
        "    meals.append({\n",
        "        \"id\": mid,\n",
        "        \"name\": name,\n",
        "        \"date\": d,\n",
        "        \"ingredients\": ingredients\n",
        "    })\n",
        "    meal_ids.add(mid)\n",
        "    print(f\"✅ Added meal #{mid}: \\\"{name}\\\" on {d} with {len(ingredients)} ingredient(s).\")\n",
        "    return mid\n",
        "\n",
        "def view_meals():\n",
        "    \"\"\"List all meals sorted by date.\"\"\"\n",
        "    if not meals:\n",
        "        print(\"No meals scheduled yet.\")\n",
        "        return\n",
        "    print(\"\\n📅 Scheduled Meals:\")\n",
        "    for m in sorted(meals, key=lambda x: x[\"date\"]):\n",
        "        ingr = \", \".join(m[\"ingredients\"])\n",
        "        print(f\"  {m['id']}: {m['name']} — {m['date']} — Ingredients: {ingr}\")\n",
        "    print()\n",
        "\n",
        "def generate_ingredients_df() -> pd.DataFrame:\n",
        "    \"\"\"Aggregate ingredients across all meals into count summary.\"\"\"\n",
        "    data = [\n",
        "        {\"ingredient\": ing, \"meal_id\": m[\"id\"]}\n",
        "        for m in meals for ing in m[\"ingredients\"]\n",
        "    ]\n",
        "    if not data:\n",
        "        return pd.DataFrame(columns=[\"ingredient\", \"count\"])\n",
        "    df = pd.DataFrame(data)\n",
        "    return df.groupby(\"ingredient\").size().reset_index(name=\"count\")\n",
        "\n",
        "def export_ingredients_csv(filename=\"ingredients.csv\"):\n",
        "    \"\"\"Export aggregated ingredient counts to CSV.\"\"\"\n",
        "    df = generate_ingredients_df()\n",
        "    if df.empty:\n",
        "        print(\"⚠️ No ingredients to export.\")\n",
        "        return\n",
        "    df.to_csv(filename, index=False)\n",
        "    print(f\"✅ Exported {len(df)} ingredients to {filename}\")\n",
        "\n",
        "def main():\n",
        "    print(\"🥗 HealthyBites Weekly Meal Scheduler\\n\")\n",
        "    while True:\n",
        "        cmd = input(\"Choose an action [add/view/export/quit]: \").strip().lower()\n",
        "        try:\n",
        "            if cmd == \"add\":\n",
        "                name = input(\"  Meal name: \").strip()\n",
        "                date_str = input(\"  Date (YYYY-MM-DD): \").strip()\n",
        "                ingr = input(\"  Ingredients (comma-separated): \").strip()\n",
        "                add_meal(name, date_str, ingr)\n",
        "            elif cmd == \"view\":\n",
        "                view_meals()\n",
        "            elif cmd == \"export\":\n",
        "                export_ingredients_csv()\n",
        "            elif cmd == \"quit\":\n",
        "                print(\"Goodbye 👋\")\n",
        "                break\n",
        "            else:\n",
        "                print(\"Unknown command. Try again.\")\n",
        "        except Exception as e:\n",
        "            print(f\"⚠️ Error: {e}\")\n",
        "\n",
        "if __name__ == \"__main__\":\n",
        "    main()"
      ]
    }
  ]
}